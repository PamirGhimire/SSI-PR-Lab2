{
 "cells": [
  {
   "cell_type": "code",
   "execution_count": 172,
   "metadata": {
    "collapsed": true
   },
   "outputs": [],
   "source": [
    "#Scene Segmentation and Interpretation\n",
    "#Lab2 : logistic regression\n",
    "#Pamir Ghimire, MSCV 2016-2018, UBourgogne"
   ]
  },
  {
   "cell_type": "code",
   "execution_count": 173,
   "metadata": {
    "collapsed": false
   },
   "outputs": [
    {
     "name": "stdout",
     "output_type": "stream",
     "text": [
      "Pretty printing has been turned ON\n"
     ]
    }
   ],
   "source": [
    "#include some libraries\n",
    "%matplotlib inline\n",
    "%pprint off\n",
    "import matplotlib.pyplot as plt\n",
    "import scipy as sp\n",
    "import numpy as np\n",
    "from numpy import linalg"
   ]
  },
  {
   "cell_type": "code",
   "execution_count": 174,
   "metadata": {
    "collapsed": false
   },
   "outputs": [],
   "source": [
    "# A function for visualizing binary data over 2-dimensional domain\n",
    "\n",
    "def plotData(X, y):\n",
    "    plt.figure()\n",
    "    \n",
    "    #Data with positive labels (label = 1)\n",
    "    idx = (y == 1)\n",
    "    Xpos = X[idx,:]\n",
    "    p1 = plt.scatter(Xpos[:,0], Xpos[:,1], marker = '+', color = 'k')\n",
    "    \n",
    "    #Data with negative labels (label = 0)\n",
    "    idx = (y == 0)\n",
    "    Xneg = X[idx,:]\n",
    "    p2 = plt.scatter(Xneg[:,0], Xneg[:,1], marker = 'o', color = 'y')\n",
    "\n",
    "    plt.xlabel('Exam 1 score')\n",
    "    plt.ylabel('Exam 2 score')\n",
    "    plt.legend([p1, p2], [\"Admitted\", \"Not Admitted\"])\n",
    "    plt.show()    "
   ]
  },
  {
   "cell_type": "code",
   "execution_count": 175,
   "metadata": {
    "collapsed": true
   },
   "outputs": [],
   "source": [
    "# Returns sigmoid function's response to the supplied scalar, vector\n",
    "# or matrix\n",
    "def sigmoid (x):\n",
    "    y = 1.00 / (1 + np.exp(-x))\n",
    "    return y\n"
   ]
  },
  {
   "cell_type": "code",
   "execution_count": 176,
   "metadata": {
    "collapsed": true
   },
   "outputs": [],
   "source": [
    "# Cost function : returns cross-entropy for performing logistic regression\n",
    "\n",
    "def costFunction(w, X, y):\n",
    "    # append a column of 1s to the data matrix X\n",
    "    nrows = np.size(X, 0)\n",
    "    onesCol = np.ones((nrows, 1))\n",
    "    Xa = np.column_stack((onesCol, X))\n",
    "\n",
    "    # initialize the error/cost to be returned\n",
    "    E = 0\n",
    "\n",
    "    # accumulate error\n",
    "    for nlabel in range(0, nrows):\n",
    "        phi_n = sigmoid( np.dot( np.transpose(w), Xa[nlabel,:] ) )\n",
    "        E = E - ( y[nlabel]*np.log(phi_n) + (1 - y[nlabel]) * np.log(1 - phi_n) ) \n",
    "\n",
    "    # Normalize cost\n",
    "    E = (1./nrows) * E\n",
    "    \n",
    "    return E"
   ]
  },
  {
   "cell_type": "code",
   "execution_count": 177,
   "metadata": {
    "collapsed": true
   },
   "outputs": [],
   "source": [
    "# Gradient of the cost function in above cell\n",
    "def costFunctionGrad(w, X, y):\n",
    "    # append a column of 1s to the data matrix X\n",
    "    nrows = np.size(X, 0)\n",
    "    onesCol = np.ones((nrows, 1))\n",
    "    Xa = np.column_stack((onesCol, X))\n",
    "\n",
    "    ncols_xa = np.size(Xa, 1)\n",
    "    \n",
    "    # initialize the error/cost gradient to be returned\n",
    "    E_grad = np.zeros((1, ncols_xa))\n",
    "    \n",
    "    # 'accumulate' the gradient\n",
    "    for nlabel in range(0, nrows):\n",
    "        phi_n = sigmoid( np.dot( np.transpose(w), Xa[nlabel,:] ) )\n",
    "        E_grad = E_grad + (phi_n - y[nlabel]) * Xa[nlabel,:]\n",
    "\n",
    "    return E_grad"
   ]
  },
  {
   "cell_type": "code",
   "execution_count": 178,
   "metadata": {
    "collapsed": false
   },
   "outputs": [
    {
     "data": {
      "image/png": "[encoded data removed]",
      "text/plain": [
       "<matplotlib.figure.Figure at 0x7fba42f584d0>"
      ]
     },
     "metadata": {},
     "output_type": "display_data"
    }
   ],
   "source": [
    "#READ DATA1 FILE AND DISPLAY DATA USING SCATTER PLOT\n",
    "\n",
    "#read the text file lab2data1.txt\n",
    "data_mat = np.loadtxt(\"lab2data1.txt\", delimiter= \",\")\n",
    "\n",
    "#unpack the columns into variables X and y\n",
    "x1 = data_mat[:,0]\n",
    "x2 = data_mat[:,1]\n",
    "X = np.column_stack((x1, x2))\n",
    "\n",
    "y = data_mat[:,2]\n",
    "\n",
    "#Scatter plot the data\n",
    "plotData(X, y)"
   ]
  },
  {
   "cell_type": "code",
   "execution_count": 179,
   "metadata": {
    "collapsed": false,
    "scrolled": true
   },
   "outputs": [
    {
     "data": {
      "image/png": "[encoded data removed]",
      "text/plain": [
       "<matplotlib.figure.Figure at 0x7fba42ef9e10>"
      ]
     },
     "metadata": {},
     "output_type": "display_data"
    }
   ],
   "source": [
    "# Test the response of the sigmoid function\n",
    "x_sig = np.linspace(-10, 10, 1000)\n",
    "y_sig = sigmoid(x_sig)\n",
    "\n",
    "plt.figure, plt.plot(x_sig, y_sig)\n",
    "plt.xlabel('x'), plt.ylabel('sigmoid(x)')\n",
    "plt.grid()"
   ]
  },
  {
   "cell_type": "code",
   "execution_count": 180,
   "metadata": {
    "collapsed": false
   },
   "outputs": [
    {
     "name": "stdout",
     "output_type": "stream",
     "text": [
      "Cost for test weight of zeros =  [ 0.69314718]\n"
     ]
    }
   ],
   "source": [
    "# Test the cost function\n",
    "\n",
    "ncols = np.size(X, 1)\n",
    "w_test = np.zeros((ncols + 1, 1))\n",
    "e_test = costFunction(w_test, X, y)  \n",
    "\n",
    "print 'Cost for test weight of zeros = ', e_test"
   ]
  },
  {
   "cell_type": "code",
   "execution_count": 181,
   "metadata": {
    "collapsed": false
   },
   "outputs": [
    {
     "name": "stdout",
     "output_type": "stream",
     "text": [
      "Optimized parameters W for separating data in X: [-25.21601548   0.20666905   0.2019143 ]\n"
     ]
    }
   ],
   "source": [
    "# Find optimal value for parameters 'w' (logistic regression)\n",
    "from scipy import optimize\n",
    "\n",
    "ncols = np.size(X, 1)\n",
    "w_init = np.zeros((ncols + 1, 1))\n",
    "\n",
    "w_allResults = optimize.minimize(costFunction, w_init, args=(X, y), method='TNC', jac = costFunctionGrad)\n",
    "w = w_allResults.x\n",
    "\n",
    "print 'Optimized parameters W for separating data in X:' , w"
   ]
  },
  {
   "cell_type": "code",
   "execution_count": 182,
   "metadata": {
    "collapsed": false
   },
   "outputs": [
    {
     "data": {
      "image/png": "[encoded data removed]",
      "text/plain": [
       "<matplotlib.figure.Figure at 0x7fba3d359e50>"
      ]
     },
     "metadata": {},
     "output_type": "display_data"
    }
   ],
   "source": [
    "# Visualizing the decision boundary\n",
    "\n",
    "#Data with positive labels (label = 1)\n",
    "idx = (y == 1)\n",
    "Xpos = X[idx,:]\n",
    "p1 = plt.scatter(Xpos[:,0], Xpos[:,1], marker = '+', color = 'k')\n",
    "\n",
    "#Data with negative labels (label = 0)\n",
    "idx = (y == 0)\n",
    "Xneg = X[idx,:]\n",
    "p2 = plt.scatter(Xneg[:,0], Xneg[:,1], marker = 'o', color = 'y')\n",
    "\n",
    "# Create scatter plot of the labelled datapoints\n",
    "plt.xlabel('Exam 1 score')\n",
    "plt.ylabel('Exam 2 score')\n",
    "plt.legend([p1, p2], [\"Admitted\", \"Not Admitted\"])\n",
    "\n",
    "# plot the decision boundary\n",
    "x_w = np.linspace(35.0, 100.0, num = 1000)\n",
    "y_w = -(w[0] + w[1]*x_w)/w[2] \n",
    "\n",
    "plt.plot(x_w, y_w)\n",
    "\n",
    "plt.show()"
   ]
  },
  {
   "cell_type": "code",
   "execution_count": null,
   "metadata": {
    "collapsed": true
   },
   "outputs": [],
   "source": []
  }
 ],
 "metadata": {
  "kernelspec": {
   "display_name": "Python 2",
   "language": "python",
   "name": "python2"
  },
  "language_info": {
   "codemirror_mode": {
    "name": "ipython",
    "version": 2
   },
   "file_extension": ".py",
   "mimetype": "text/x-python",
   "name": "python",
   "nbconvert_exporter": "python",
   "pygments_lexer": "ipython2",
   "version": "2.7.11"
  }
 },
 "nbformat": 4,
 "nbformat_minor": 0
}
