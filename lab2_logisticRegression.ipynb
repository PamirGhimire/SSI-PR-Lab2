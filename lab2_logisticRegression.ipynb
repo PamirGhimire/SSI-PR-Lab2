{
 "cells": [
  {
   "cell_type": "code",
   "execution_count": 120,
   "metadata": {
    "collapsed": true
   },
   "outputs": [],
   "source": [
    "#Scene Segmentation and Interpretation\n",
    "#Lab2 : logistic regression\n",
    "#Pamir Ghimire, MSCV 2016-2018, UBourgogne"
   ]
  },
  {
   "cell_type": "code",
   "execution_count": 121,
   "metadata": {
    "collapsed": false
   },
   "outputs": [
    {
     "name": "stdout",
     "output_type": "stream",
     "text": [
      "Pretty printing has been turned ON\n"
     ]
    }
   ],
   "source": [
    "#include some libraries\n",
    "%matplotlib inline\n",
    "%pprint off\n",
    "import matplotlib.pyplot as plt\n",
    "import scipy as sp\n",
    "import numpy as np\n",
    "from numpy import linalg"
   ]
  },
  {
   "cell_type": "code",
   "execution_count": 122,
   "metadata": {
    "collapsed": false
   },
   "outputs": [],
   "source": [
    "# A function for visualizing binary data over 2-dimensional domain\n",
    "\n",
    "def plotData(X, y):\n",
    "    plt.figure()\n",
    "    \n",
    "    #Data with positive labels (label = 1)\n",
    "    idx = (y == 1)\n",
    "    Xpos = X[idx,:]\n",
    "    p1 = plt.scatter(Xpos[:,0], Xpos[:,1], marker = '+', color = 'k')\n",
    "    \n",
    "    #Data with negative labels (label = 0)\n",
    "    idx = (y == 0)\n",
    "    Xneg = X[idx,:]\n",
    "    p2 = plt.scatter(Xneg[:,0], Xneg[:,1], marker = 'o', color = 'y')\n",
    "\n",
    "    plt.xlabel('Exam 1 score')\n",
    "    plt.ylabel('Exam 2 score')\n",
    "    plt.legend([p1, p2], [\"Admitted\", \"Not Admitted\"])\n",
    "    plt.show()    "
   ]
  },
  {
   "cell_type": "code",
   "execution_count": 123,
   "metadata": {
    "collapsed": true
   },
   "outputs": [],
   "source": [
    "# Returns sigmoid function's response to the supplied scalar, vector\n",
    "# or matrix\n",
    "def sigmoid (x):\n",
    "    y = 1.00 / (1 + np.exp(-x))\n",
    "    return y\n"
   ]
  },
  {
   "cell_type": "code",
   "execution_count": 124,
   "metadata": {
    "collapsed": false
   },
   "outputs": [
    {
     "data": {
      "image/png": "[encoded data removed]",
      "text/plain": [
       "<matplotlib.figure.Figure at 0x7f005f7c4f90>"
      ]
     },
     "metadata": {},
     "output_type": "display_data"
    }
   ],
   "source": [
    "#READ DATA1 FILE AND DISPLAY DATA USING SCATTER PLOT\n",
    "\n",
    "#read the text file lab2data1.txt\n",
    "data_mat = np.loadtxt(\"lab2data1.txt\", delimiter= \",\")\n",
    "\n",
    "#unpack the columns into variables X and y\n",
    "x1 = data_mat[:,0]\n",
    "x2 = data_mat[:,1]\n",
    "X = np.column_stack((x1, x2))\n",
    "\n",
    "y = data_mat[:,2]\n",
    "\n",
    "#Scatter plot the data\n",
    "plotData(X, y)"
   ]
  },
  {
   "cell_type": "code",
   "execution_count": 130,
   "metadata": {
    "collapsed": false
   },
   "outputs": [
    {
     "data": {
      "image/png": "[encoded data removed]",
      "text/plain": [
       "<matplotlib.figure.Figure at 0x7f005f735a50>"
      ]
     },
     "metadata": {},
     "output_type": "display_data"
    }
   ],
   "source": [
    "# Test the response of the sigmoid function\n",
    "x = np.linspace(-10, 10, 1000)\n",
    "y = sigmoid(x)\n",
    "\n",
    "plt.figure, plt.plot(x, y)\n",
    "plt.xlabel('x'), plt.ylabel('sigmoid(x)')\n",
    "plt.grid()"
   ]
  },
  {
   "cell_type": "code",
   "execution_count": null,
   "metadata": {
    "collapsed": true
   },
   "outputs": [],
   "source": []
  }
 ],
 "metadata": {
  "kernelspec": {
   "display_name": "Python 2",
   "language": "python",
   "name": "python2"
  },
  "language_info": {
   "codemirror_mode": {
    "name": "ipython",
    "version": 2
   },
   "file_extension": ".py",
   "mimetype": "text/x-python",
   "name": "python",
   "nbconvert_exporter": "python",
   "pygments_lexer": "ipython2",
   "version": "2.7.10"
  }
 },
 "nbformat": 4,
 "nbformat_minor": 0
}
